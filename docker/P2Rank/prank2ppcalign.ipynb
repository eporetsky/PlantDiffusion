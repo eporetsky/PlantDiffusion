{
 "cells": [
  {
   "cell_type": "code",
   "execution_count": null,
   "id": "2841e57c",
   "metadata": {},
   "outputs": [],
   "source": [
    "import os\n",
    "import glob\n",
    "import pandas as pd"
   ]
  },
  {
   "cell_type": "code",
   "execution_count": null,
   "id": "1b144dc8",
   "metadata": {},
   "outputs": [],
   "source": [
    "pocket_list = glob.glob(\"mount/output/*predictions.csv\")\n",
    "os.makedirs(\"mount/pockets\", exist_ok=True)"
   ]
  },
  {
   "cell_type": "markdown",
   "id": "a63ece9d",
   "metadata": {},
   "source": [
    "# Convert P2Rank pockets to PPCalign POC formatted files"
   ]
  },
  {
   "cell_type": "code",
   "execution_count": null,
   "id": "f34173bf",
   "metadata": {},
   "outputs": [],
   "source": [
    "for p2rank_path in pocket_list:\n",
    "    # Get the path of the \n",
    "    pdb_path = os.path.join(\"mount\", \"pdbs\", os.path.basename(p2rank_path).replace(\"_predictions.csv\", \"\"))\n",
    "    # Extract the uniprot ID from the AF2 name\n",
    "    pdb_id = os.path.basename(p2rank_path).replace(\".pdb_predictions.csv\", \"\").split(\"-\")[1]\n",
    "    \n",
    "    # Open the P2Rank pocket results\n",
    "    tmp = pd.read_csv(p2rank_path)\n",
    "    tmp.columns = [col.replace(\" \", \"\") for col in tmp.columns]\n",
    "    \n",
    "    # Filter and keep only high probability pockets\n",
    "    tmp = tmp[tmp[\"probability\"]>0.9]\n",
    "    \n",
    "    # If there are no pockets, skip to the next PDB\n",
    "    if len(tmp) == 0:\n",
    "        continue\n",
    "    \n",
    "    pocket_dict = {}\n",
    "    \n",
    "    # Iterate over every pocket and create a pocket PDB\n",
    "    for _, row in tmp.iterrows():\n",
    "        residues = row[\"residue_ids\"][1:].split(\" \")\n",
    "        pocket_name = pdb_id + \"_\" + row[\"name\"].replace(\" \",\"\").replace(\"pocket\", \"p\")\n",
    "        pocket_residues = [tuple(res.split(\"_\")) for res in residues]\n",
    "\n",
    "        with open(pdb_path, 'r') as input_file:\n",
    "            with open(\"mount/pockets/{}.pdb\".format(pocket_name), 'w') as output_file:\n",
    "                output_file.write(\"POC {}\\n\".format(pocket_name))\n",
    "                for line in input_file:\n",
    "                    if line.startswith(('ATOM', 'HETATM')):\n",
    "                        chain = line[21]\n",
    "                        residue_number = line[22:26].strip()\n",
    "                        if (chain, residue_number) in pocket_residues:\n",
    "                            output_file.write(line)\n",
    "                output_file.write(\"TER\")"
   ]
  }
 ],
 "metadata": {
  "kernelspec": {
   "display_name": "Python 3 (ipykernel)",
   "language": "python",
   "name": "python3"
  },
  "language_info": {
   "codemirror_mode": {
    "name": "ipython",
    "version": 3
   },
   "file_extension": ".py",
   "mimetype": "text/x-python",
   "name": "python",
   "nbconvert_exporter": "python",
   "pygments_lexer": "ipython3",
   "version": "3.10.14"
  }
 },
 "nbformat": 4,
 "nbformat_minor": 5
}
