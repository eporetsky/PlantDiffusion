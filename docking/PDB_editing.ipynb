{
 "cells": [
  {
   "cell_type": "code",
   "execution_count": 2,
   "id": "24901f8c",
   "metadata": {
    "scrolled": true
   },
   "outputs": [],
   "source": [
    "#The following line is a usual way of installing python tools/modules\n",
    "#!pip install biopython\n",
    "\n",
    "#Here, we import Bio.PDB to use it to manipulate PDB files\n",
    "from Bio.PDB import *\n",
    "#And we set up a parser for our PDB\n",
    "parser = PDBParser()\n",
    "io=PDBIO()\n"
   ]
  },
  {
   "cell_type": "markdown",
   "id": "b43b846e",
   "metadata": {},
   "source": [
    "# Add a constant value to the residue ID"
   ]
  },
  {
   "cell_type": "code",
   "execution_count": 3,
   "id": "63058979",
   "metadata": {},
   "outputs": [
    {
     "name": "stdout",
     "output_type": "stream",
     "text": [
      "<Chain id=A>\n",
      "<Chain id=B>\n",
      "<Chain id=A>\n",
      "<Chain id=B>\n"
     ]
    }
   ],
   "source": [
    "structure = parser.get_structure('X', 'file.pdb')\n",
    "for model in structure:\n",
    "    for chain in model:\n",
    "        print(chain)\n",
    "        for residue in chain:\n",
    "            if is_aa(residue):\n",
    "                structure[0][chain.get_id()][residue.id].id = (\" \",residue.id[1]*-1, \" \",)\n",
    "for model in structure:\n",
    "    for chain in model:\n",
    "        print(chain)\n",
    "        for residue in chain:\n",
    "            if is_aa(residue):\n",
    "                structure[0][chain.get_id()][residue.id].id = (\" \",(residue.id[1]*-1)+56, \" \",)"
   ]
  },
  {
   "cell_type": "code",
   "execution_count": 4,
   "id": "2f52411a",
   "metadata": {},
   "outputs": [
    {
     "name": "stdout",
     "output_type": "stream",
     "text": [
      "<Chain id=A>\n",
      "<Chain id=B>\n"
     ]
    }
   ],
   "source": [
    "for model in structure:\n",
    "    for chain in model:\n",
    "        print(chain)\n",
    "        for residue in chain:\n",
    "            #print(is_aa(residue))\n",
    "            if is_aa(residue):\n",
    "                #print(residue.get_id())\n",
    "                continue"
   ]
  },
  {
   "cell_type": "code",
   "execution_count": 32,
   "id": "56d0d2b9",
   "metadata": {},
   "outputs": [],
   "source": [
    "io = PDBIO()\n",
    "io.set_structure(structure)\n",
    "io.save(\"output/rank1_adj.pdb\")"
   ]
  }
 ],
 "metadata": {
  "kernelspec": {
   "display_name": "Python 3 (ipykernel)",
   "language": "python",
   "name": "python3"
  },
  "language_info": {
   "codemirror_mode": {
    "name": "ipython",
    "version": 3
   },
   "file_extension": ".py",
   "mimetype": "text/x-python",
   "name": "python",
   "nbconvert_exporter": "python",
   "pygments_lexer": "ipython3",
   "version": "3.11.5"
  }
 },
 "nbformat": 4,
 "nbformat_minor": 5
}
