{
 "cells": [
  {
   "cell_type": "markdown",
   "id": "2e3ef721",
   "metadata": {},
   "source": [
    "# bio-transformers\n",
    "\n",
    "https://pypi.org/project/bio-transformers/\n",
    "\n",
    "\n",
    "```\n",
    "conda create --name bio-transformers python=3.7 -y && conda activate bio-transformers\n",
    "or\n",
    "pip install bio-transformers\n",
    "```\n",
    "\n",
    "Note that you might need to install more packages to get CUDA support (`torch.cuda.is_available()` >> True)\n",
    "\n",
    "\n",
    "* This seems to work (from https://pytorch.org/get-started/locally/)\n",
    "\n",
    "\n",
    "`pip3 install torch==1.10.1+cu113 torchvision==0.11.2+cu113 torchaudio===0.10.1+cu113 -f https://download.pytorch.org/whl/cu113/torch_stable.html`\n",
    "\n",
    "* I don't remember if I needed this or not but keeping it here just in case:\n",
    "`pip install setuptools==59.5.0`"
   ]
  },
  {
   "cell_type": "code",
   "execution_count": 1,
   "id": "f4a48505",
   "metadata": {},
   "outputs": [],
   "source": [
    "import warnings\n",
    "warnings.filterwarnings('ignore')"
   ]
  },
  {
   "cell_type": "code",
   "execution_count": 2,
   "id": "951bbafd",
   "metadata": {},
   "outputs": [
    {
     "data": {
      "text/plain": [
       "True"
      ]
     },
     "execution_count": 2,
     "metadata": {},
     "output_type": "execute_result"
    }
   ],
   "source": [
    "import torch\n",
    "torch.cuda.is_available()"
   ]
  },
  {
   "cell_type": "code",
   "execution_count": 44,
   "id": "704561e4",
   "metadata": {},
   "outputs": [
    {
     "name": "stdout",
     "output_type": "stream",
     "text": [
      "Use backend in this list :\n",
      "\n",
      "  *   esm1_t34_670M_UR100\n",
      "  *   esm1_t12_85M_UR50S\n",
      "  *   esm1_t6_43M_UR50S\n",
      "  *   esm1b_t33_650M_UR50S\n",
      "  *   esm_msa1_t12_100M_UR50S\n",
      "  *   esm_msa1b_t12_100M_UR50S\n",
      "  *   esm1v_t33_650M_UR90S_1\n",
      "  *   protbert\n",
      "  *   protbert_bfd\n"
     ]
    }
   ],
   "source": [
    "import numpy as np\n",
    "import pandas as pd\n",
    "from biotransformers import BioTransformers\n",
    "BioTransformers.list_backend()"
   ]
  },
  {
   "cell_type": "markdown",
   "id": "d77dd572",
   "metadata": {},
   "source": [
    "# Load protein sequences"
   ]
  },
  {
   "cell_type": "code",
   "execution_count": 4,
   "id": "594d346e",
   "metadata": {},
   "outputs": [],
   "source": [
    "from Bio import SeqIO\n",
    "\n",
    "# Set the input FASTA file name\n",
    "fasta_file = \"combined.fasta\"\n",
    "\n",
    "# Create an empty list to store the protein sequences\n",
    "protein_ids = []\n",
    "protein_sequences = []\n",
    "\n",
    "# Iterate over the sequences in the FASTA file\n",
    "for record in SeqIO.parse(fasta_file, \"fasta\"):\n",
    "    # Append the ID and sequence as a tuple to the protein_sequences list\n",
    "    protein_ids.append(record.id)\n",
    "    protein_sequences.append(str(record.seq))\n",
    "    \n",
    "# Generate a list of all residues with protein name, residue ID and index\n",
    "residue_names = []\n",
    "for prot_ix, seq in enumerate(protein_sequences):\n",
    "    protein_name = protein_ids[prot_ix]\n",
    "    for aa_ix, aa in enumerate(seq):\n",
    "        residue_names.append(\"{}_{}{}\".format(protein_name, aa, aa_ix+1))"
   ]
  },
  {
   "cell_type": "code",
   "execution_count": 29,
   "id": "b741f0d9",
   "metadata": {},
   "outputs": [
    {
     "name": "stderr",
     "output_type": "stream",
     "text": [
      "Some weights of the model checkpoint at Rostlab/prot_bert were not used when initializing BertForMaskedLM: ['cls.seq_relationship.bias', 'cls.seq_relationship.weight']\n",
      "- This IS expected if you are initializing BertForMaskedLM from the checkpoint of a model trained on another task or with another architecture (e.g. initializing a BertForSequenceClassification model from a BertForPreTraining model).\n",
      "- This IS NOT expected if you are initializing BertForMaskedLM from the checkpoint of a model that you expect to be exactly identical (initializing a BertForSequenceClassification model from a BertForSequenceClassification model).\n",
      "100%|█████████████████████████████████████████████████████████████████████████████████████████████████████████████████████████████████████████████████████████████████████████| 181/181 [05:34<00:00,  1.85s/it]\n"
     ]
    }
   ],
   "source": [
    "bio_trans = BioTransformers(backend=\"protbert\", num_gpus=1)\n",
    "\n",
    "# Probably should use a smaller batch_size (16) \n",
    "embeddings = bio_trans.compute_embeddings(protein_sequences, pool_mode=('cls','mean', 'full'), batch_size=32)\n",
    "\n",
    "res_emb = pd.DataFrame(np.vstack(embeddings[\"full\"]))\n",
    "res_emb.index = residue_names\n",
    "res_emb.to_pickle(\"combined.protbert.res.pkl\")\n",
    "\n",
    "mean_df = pd.DataFrame(embeddings[\"mean\"])\n",
    "mean_df.index = protein_ids\n",
    "mean_df.to_pickle(\"combined.protbert.mean.pkl\")\n",
    "\n",
    "cls_df = pd.DataFrame(embeddings[\"cls\"])\n",
    "cls_df.index = protein_ids\n",
    "cls_df.to_pickle(\"combined.protbert.cls.pkl\")"
   ]
  },
  {
   "cell_type": "code",
   "execution_count": 75,
   "id": "425ee38c",
   "metadata": {},
   "outputs": [
    {
     "name": "stderr",
     "output_type": "stream",
     "text": [
      "100%|█████████████████████████████████████████████████████████████████████████████████████████████████████████████████████████████████████████████████████████████████████████| 181/181 [08:19<00:00,  2.76s/it]\n"
     ]
    }
   ],
   "source": [
    "bio_trans = BioTransformers(backend=\"esm1b_t33_650M_UR50S\", num_gpus=1)\n",
    "embeddings = bio_trans.compute_embeddings(protein_sequences, pool_mode=('cls','mean', 'full'), batch_size=32)\n",
    "\n",
    "res_emb = pd.DataFrame(np.vstack(embeddings[\"full\"]))\n",
    "res_emb.index = residue_names\n",
    "res_emb.to_pickle(\"combined.esm1b.res.pkl\")\n",
    "\n",
    "mean_df = pd.DataFrame(embeddings[\"mean\"])\n",
    "mean_df.index = protein_ids\n",
    "mean_df.to_pickle(\"combined.esm1b.mean.pkl\")\n",
    "\n",
    "cls_df = pd.DataFrame(embeddings[\"cls\"])\n",
    "cls_df.index = protein_ids\n",
    "cls_df.to_pickle(\"combined.esm1b.cls.pkl\")"
   ]
  },
  {
   "cell_type": "markdown",
   "id": "328098f7",
   "metadata": {},
   "source": [
    "###### Time different batch sizes\n",
    "\n",
    "A batch size of 32 seems to work faster, but when I tried setting it to 64 I quickly ran out of GPU memory and it failed to comlete the task. Most of the sequences in this batch of protein sequences are very short so might need to adjust as needed. I'm going to run it at a `batch_size=16` to be safe."
   ]
  },
  {
   "cell_type": "code",
   "execution_count": 7,
   "id": "240b17a5",
   "metadata": {},
   "outputs": [
    {
     "name": "stderr",
     "output_type": "stream",
     "text": [
      "100%|███████████████████████████████████████████████████████████████████████████████████████████████████████████████████████████████████████████████████████████████████████████| 63/63 [00:20<00:00,  3.09it/s]\n",
      "100%|███████████████████████████████████████████████████████████████████████████████████████████████████████████████████████████████████████████████████████████████████████████| 63/63 [00:19<00:00,  3.24it/s]\n",
      "100%|███████████████████████████████████████████████████████████████████████████████████████████████████████████████████████████████████████████████████████████████████████████| 63/63 [00:19<00:00,  3.29it/s]"
     ]
    },
    {
     "name": "stdout",
     "output_type": "stream",
     "text": [
      "20.1 s ± 597 ms per loop (mean ± std. dev. of 3 runs, 1 loop each)\n"
     ]
    },
    {
     "name": "stderr",
     "output_type": "stream",
     "text": [
      "\n"
     ]
    }
   ],
   "source": [
    "%timeit -n 1 -r 3 bio_trans.compute_embeddings(protein_sequences[:500], pool_mode=('cls','mean'), batch_size=8)"
   ]
  },
  {
   "cell_type": "code",
   "execution_count": 8,
   "id": "9e343678",
   "metadata": {},
   "outputs": [
    {
     "name": "stderr",
     "output_type": "stream",
     "text": [
      "100%|███████████████████████████████████████████████████████████████████████████████████████████████████████████████████████████████████████████████████████████████████████████| 32/32 [00:17<00:00,  1.83it/s]\n",
      "100%|███████████████████████████████████████████████████████████████████████████████████████████████████████████████████████████████████████████████████████████████████████████| 32/32 [00:17<00:00,  1.84it/s]\n",
      "100%|███████████████████████████████████████████████████████████████████████████████████████████████████████████████████████████████████████████████████████████████████████████| 32/32 [00:17<00:00,  1.83it/s]\n"
     ]
    },
    {
     "name": "stdout",
     "output_type": "stream",
     "text": [
      "17.9 s ± 92.1 ms per loop (mean ± std. dev. of 3 runs, 1 loop each)\n"
     ]
    }
   ],
   "source": [
    "%timeit -n 1 -r 3 bio_trans.compute_embeddings(protein_sequences[:500], pool_mode=('cls','mean'), batch_size=16)"
   ]
  },
  {
   "cell_type": "code",
   "execution_count": 9,
   "id": "8fa7811a",
   "metadata": {},
   "outputs": [
    {
     "name": "stderr",
     "output_type": "stream",
     "text": [
      "100%|███████████████████████████████████████████████████████████████████████████████████████████████████████████████████████████████████████████████████████████████████████████| 16/16 [00:13<00:00,  1.20it/s]\n",
      "100%|███████████████████████████████████████████████████████████████████████████████████████████████████████████████████████████████████████████████████████████████████████████| 16/16 [00:13<00:00,  1.20it/s]\n",
      "100%|███████████████████████████████████████████████████████████████████████████████████████████████████████████████████████████████████████████████████████████████████████████| 16/16 [00:12<00:00,  1.24it/s]"
     ]
    },
    {
     "name": "stdout",
     "output_type": "stream",
     "text": [
      "13.5 s ± 294 ms per loop (mean ± std. dev. of 3 runs, 1 loop each)\n"
     ]
    },
    {
     "name": "stderr",
     "output_type": "stream",
     "text": [
      "\n"
     ]
    }
   ],
   "source": [
    "%timeit -n 1 -r 3 bio_trans.compute_embeddings(protein_sequences[:500], pool_mode=('cls','mean'), batch_size=32)"
   ]
  },
  {
   "cell_type": "code",
   "execution_count": 15,
   "id": "fcf1f078",
   "metadata": {},
   "outputs": [],
   "source": [
    "from biotransformers import BioTransformers\n",
    "bio_trans = BioTransformers(backend=\"esm1b_t33_650M_UR50S\", num_gpus=1)"
   ]
  },
  {
   "cell_type": "code",
   "execution_count": 12,
   "id": "3888447c",
   "metadata": {},
   "outputs": [
    {
     "name": "stderr",
     "output_type": "stream",
     "text": [
      "100%|███████████████████████████████████████████████████████████████████████████████████████████████████████████████████████████████████████████████████████████████████████████| 63/63 [00:31<00:00,  1.99it/s]\n",
      "100%|███████████████████████████████████████████████████████████████████████████████████████████████████████████████████████████████████████████████████████████████████████████| 63/63 [00:31<00:00,  2.02it/s]\n",
      "100%|███████████████████████████████████████████████████████████████████████████████████████████████████████████████████████████████████████████████████████████████████████████| 63/63 [00:31<00:00,  2.01it/s]\n"
     ]
    },
    {
     "name": "stdout",
     "output_type": "stream",
     "text": [
      "31.6 s ± 197 ms per loop (mean ± std. dev. of 3 runs, 1 loop each)\n"
     ]
    }
   ],
   "source": [
    "%timeit -n 1 -r 3 bio_trans.compute_embeddings(protein_sequences[:500], pool_mode=('cls','mean'), batch_size=8)"
   ]
  },
  {
   "cell_type": "code",
   "execution_count": 13,
   "id": "4f85d5cc",
   "metadata": {},
   "outputs": [
    {
     "name": "stderr",
     "output_type": "stream",
     "text": [
      "100%|███████████████████████████████████████████████████████████████████████████████████████████████████████████████████████████████████████████████████████████████████████████| 32/32 [00:27<00:00,  1.16it/s]\n",
      "100%|███████████████████████████████████████████████████████████████████████████████████████████████████████████████████████████████████████████████████████████████████████████| 32/32 [00:27<00:00,  1.17it/s]\n",
      "100%|███████████████████████████████████████████████████████████████████████████████████████████████████████████████████████████████████████████████████████████████████████████| 32/32 [00:27<00:00,  1.16it/s]"
     ]
    },
    {
     "name": "stdout",
     "output_type": "stream",
     "text": [
      "27.7 s ± 85.3 ms per loop (mean ± std. dev. of 3 runs, 1 loop each)\n"
     ]
    },
    {
     "name": "stderr",
     "output_type": "stream",
     "text": [
      "\n"
     ]
    }
   ],
   "source": [
    "%timeit -n 1 -r 3 bio_trans.compute_embeddings(protein_sequences[:500], pool_mode=('cls','mean'), batch_size=16)"
   ]
  },
  {
   "cell_type": "code",
   "execution_count": 14,
   "id": "f1b5ac6b",
   "metadata": {},
   "outputs": [
    {
     "name": "stderr",
     "output_type": "stream",
     "text": [
      "100%|███████████████████████████████████████████████████████████████████████████████████████████████████████████████████████████████████████████████████████████████████████████| 16/16 [00:21<00:00,  1.36s/it]\n",
      "100%|███████████████████████████████████████████████████████████████████████████████████████████████████████████████████████████████████████████████████████████████████████████| 16/16 [00:21<00:00,  1.32s/it]\n",
      "100%|███████████████████████████████████████████████████████████████████████████████████████████████████████████████████████████████████████████████████████████████████████████| 16/16 [00:21<00:00,  1.33s/it]"
     ]
    },
    {
     "name": "stdout",
     "output_type": "stream",
     "text": [
      "21.6 s ± 321 ms per loop (mean ± std. dev. of 3 runs, 1 loop each)\n"
     ]
    },
    {
     "name": "stderr",
     "output_type": "stream",
     "text": [
      "\n"
     ]
    }
   ],
   "source": [
    "%timeit -n 1 -r 3 bio_trans.compute_embeddings(protein_sequences[:500], pool_mode=('cls','mean'), batch_size=32)"
   ]
  }
 ],
 "metadata": {
  "kernelspec": {
   "display_name": "Python 3 (ipykernel)",
   "language": "python",
   "name": "python3"
  },
  "language_info": {
   "codemirror_mode": {
    "name": "ipython",
    "version": 3
   },
   "file_extension": ".py",
   "mimetype": "text/x-python",
   "name": "python",
   "nbconvert_exporter": "python",
   "pygments_lexer": "ipython3",
   "version": "3.7.16"
  }
 },
 "nbformat": 4,
 "nbformat_minor": 5
}
