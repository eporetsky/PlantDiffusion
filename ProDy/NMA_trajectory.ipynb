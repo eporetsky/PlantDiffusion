{
 "cells": [
  {
   "cell_type": "code",
   "execution_count": null,
   "id": "7a328542-1669-49b4-9b79-77be5878a178",
   "metadata": {},
   "outputs": [],
   "source": [
    "# conda install -c conda-forge openmm pdbfixer\n",
    "# Installed version openmm-8.0.0 and pdbfixer-1.9\n",
    "# For saving VMD videos and GIFs \n",
    "# brew install imagemagick netpbm\n",
    "# !pip install matplotlib"
   ]
  },
  {
   "cell_type": "code",
   "execution_count": null,
   "id": "2aff3fd9-0539-4dcb-bc96-8c011494a7c4",
   "metadata": {},
   "outputs": [],
   "source": [
    "from pylab import *\n",
    "ion()  # turn interactive mode on"
   ]
  },
  {
   "cell_type": "code",
   "execution_count": null,
   "id": "f1c54615-914c-42c4-80f4-846340173930",
   "metadata": {},
   "outputs": [],
   "source": [
    "from prody import *"
   ]
  },
  {
   "cell_type": "code",
   "execution_count": null,
   "id": "08deb9c1-19f9-4a12-a313-0ebcae10c9a5",
   "metadata": {},
   "outputs": [],
   "source": [
    "displacements = np.linspace(-1, 1, 10)\n",
    "displacements.shape\n",
    "for i, disp in enumerate(displacements):\n",
    "    print(disp)"
   ]
  },
  {
   "cell_type": "code",
   "execution_count": null,
   "id": "8de7f649-36ae-46af-bd78-324072e479e5",
   "metadata": {},
   "outputs": [],
   "source": [
    "structure = prody.parsePDB('protein.pdb')\n",
    "anm = prody.ANM('prot') # instantiate ANM object\n",
    "anm.buildHessian(structure) # build Hessian matrix for selected atoms\n",
    "anm.calcModes() # calculate normal modes\n",
    "prody.saveModel(anm)"
   ]
  },
  {
   "cell_type": "code",
   "execution_count": null,
   "id": "0fed62c2-c830-4e8b-99c2-9e8ac9a7dba5",
   "metadata": {},
   "outputs": [],
   "source": [
    "ensembl = prody.traverseMode(mode=anm[0], atoms=structure, rmsd=3)\n",
    "for ix, mode in enumerate(ensembl):\n",
    "    # Save the frame to a PDB file\n",
    "    filename = f\"trajectory/mode{mode.getIndex()}_{ix+1:03d}.pdb\"\n",
    "    prody.writePDB(filename, mode)\n",
    "    print(f\"Written: {filename}\")"
   ]
  },
  {
   "cell_type": "code",
   "execution_count": null,
   "id": "687bc1f7-9fef-4081-9965-7e896b1754b5",
   "metadata": {},
   "outputs": [],
   "source": [
    "prody.writePDB(\"ensembl.pdb\", ensembl, single=True)"
   ]
  }
 ],
 "metadata": {
  "kernelspec": {
   "display_name": "Python 3 (ipykernel)",
   "language": "python",
   "name": "python3"
  },
  "language_info": {
   "codemirror_mode": {
    "name": "ipython",
    "version": 3
   },
   "file_extension": ".py",
   "mimetype": "text/x-python",
   "name": "python",
   "nbconvert_exporter": "python",
   "pygments_lexer": "ipython3",
   "version": "3.11.8"
  }
 },
 "nbformat": 4,
 "nbformat_minor": 5
}
